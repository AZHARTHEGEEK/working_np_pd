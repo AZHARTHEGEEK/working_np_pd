{
 "cells": [
  {
   "cell_type": "markdown",
   "metadata": {},
   "source": [
    "# CLASS 1 NUMPY"
   ]
  },
  {
   "cell_type": "code",
   "execution_count": 3,
   "metadata": {},
   "outputs": [
    {
     "name": "stdout",
     "output_type": "stream",
     "text": [
      "Wall time: 6.94 s\n"
     ]
    }
   ],
   "source": [
    "%time import numpy as np"
   ]
  },
  {
   "cell_type": "code",
   "execution_count": 4,
   "metadata": {},
   "outputs": [
    {
     "data": {
      "text/plain": [
       "list"
      ]
     },
     "execution_count": 4,
     "metadata": {},
     "output_type": "execute_result"
    }
   ],
   "source": [
    "mylist = list(range(100000)) #initilizing list []\n",
    "\n",
    "type(mylist) # cheacking type\n"
   ]
  },
  {
   "cell_type": "code",
   "execution_count": 5,
   "metadata": {},
   "outputs": [
    {
     "data": {
      "text/plain": [
       "numpy.ndarray"
      ]
     },
     "execution_count": 5,
     "metadata": {},
     "output_type": "execute_result"
    }
   ],
   "source": [
    "arr = np.arange(100000)   #initilizing array []\n",
    "\n",
    "type(arr)  # cheacking type"
   ]
  },
  {
   "cell_type": "code",
   "execution_count": 6,
   "metadata": {},
   "outputs": [
    {
     "name": "stdout",
     "output_type": "stream",
     "text": [
      "Wall time: 0 ns\n"
     ]
    }
   ],
   "source": [
    "%time\n",
    "for b in range(10):        #list multiplications' \n",
    "    listmuliti = mylist * 10"
   ]
  },
  {
   "cell_type": "code",
   "execution_count": 7,
   "metadata": {},
   "outputs": [
    {
     "name": "stdout",
     "output_type": "stream",
     "text": [
      "Wall time: 0 ns\n"
     ]
    }
   ],
   "source": [
    "%time\n",
    "for b in range(11):\n",
    "    arrmulti = arr * 2  #array multiplication"
   ]
  },
  {
   "cell_type": "code",
   "execution_count": 8,
   "metadata": {},
   "outputs": [
    {
     "data": {
      "text/plain": [
       "array([0, 1, 2, 3, 4, 5, 6, 7, 8, 9])"
      ]
     },
     "execution_count": 8,
     "metadata": {},
     "output_type": "execute_result"
    }
   ],
   "source": [
    "data0 = np.arange(10) \n",
    "data0\n",
    "#1 dementional vector array"
   ]
  },
  {
   "cell_type": "code",
   "execution_count": 9,
   "metadata": {},
   "outputs": [
    {
     "name": "stdout",
     "output_type": "stream",
     "text": [
      "1\n",
      "(10,)\n"
     ]
    }
   ],
   "source": [
    "print(data0.ndim)        \n",
    "print(data0.shape)        #shape is used to to check the array element distribution"
   ]
  },
  {
   "cell_type": "code",
   "execution_count": 10,
   "metadata": {},
   "outputs": [
    {
     "data": {
      "text/plain": [
       "array([[ 0.44347956, -1.10827909,  0.50959615],\n",
       "       [-2.00884697,  0.82366752, -0.63974336],\n",
       "       [-0.58679592, -0.14809644, -0.15191394],\n",
       "       [ 0.22070792,  1.72073308,  1.83287185],\n",
       "       [-0.59838179,  0.44798382,  0.609792  ]])"
      ]
     },
     "execution_count": 10,
     "metadata": {},
     "output_type": "execute_result"
    }
   ],
   "source": [
    "data1 =np.random.randn(5,3)\n",
    "data1                      # two dimentional array (tensor)"
   ]
  },
  {
   "cell_type": "code",
   "execution_count": 11,
   "metadata": {},
   "outputs": [
    {
     "name": "stdout",
     "output_type": "stream",
     "text": [
      "2\n",
      "(5, 3)\n"
     ]
    }
   ],
   "source": [
    "print(data1.ndim)   #.ndim used for checking the array dimension\n",
    "print(data1.shape)     #shape is used to to check the array element distribution"
   ]
  },
  {
   "cell_type": "code",
   "execution_count": 12,
   "metadata": {},
   "outputs": [
    {
     "data": {
      "text/plain": [
       "array([[[-1.96491252,  1.71213396,  0.61239936],\n",
       "        [ 0.55832522,  0.7306783 ,  0.41656201],\n",
       "        [ 1.11513149,  2.04261019,  1.45646938]],\n",
       "\n",
       "       [[ 2.5133733 , -0.88466276, -0.07796049],\n",
       "        [ 1.12611959, -0.13487329,  0.79268379],\n",
       "        [ 1.15553841, -0.11811718,  0.99938892]],\n",
       "\n",
       "       [[ 0.97998959,  1.52954808,  0.17581348],\n",
       "        [ 0.62235747,  0.29972008, -2.32250601],\n",
       "        [-0.40507648,  0.109771  ,  0.08596048]],\n",
       "\n",
       "       [[-0.70485432,  0.15538265, -0.7562316 ],\n",
       "        [-2.46183349, -0.04676015, -1.31505021],\n",
       "        [ 0.30828572,  0.20150876,  1.67039076]],\n",
       "\n",
       "       [[ 1.16130832,  0.79836502, -1.04813333],\n",
       "        [ 0.54985584, -0.37747208,  0.29343837],\n",
       "        [-1.61561436,  1.50761954,  0.56204993]]])"
      ]
     },
     "execution_count": 12,
     "metadata": {},
     "output_type": "execute_result"
    }
   ],
   "source": [
    "data = np.random.randn(5, 3, 3)\n",
    "data"
   ]
  },
  {
   "cell_type": "code",
   "execution_count": 13,
   "metadata": {},
   "outputs": [
    {
     "name": "stdout",
     "output_type": "stream",
     "text": [
      "3\n",
      "(5, 3, 3)\n"
     ]
    }
   ],
   "source": [
    "print(data.ndim)\n",
    "print(data.shape)"
   ]
  },
  {
   "cell_type": "code",
   "execution_count": 14,
   "metadata": {},
   "outputs": [
    {
     "name": "stdout",
     "output_type": "stream",
     "text": [
      "Wall time: 0 ns\n"
     ]
    },
    {
     "data": {
      "text/plain": [
       "[1, 2, 1, 2, 1, 2, 1, 2, 1, 2, 1, 2, 1, 2, 1, 2, 1, 2, 1, 2, 1, 2]"
      ]
     },
     "execution_count": 14,
     "metadata": {},
     "output_type": "execute_result"
    }
   ],
   "source": [
    "%time mylist[1:3] * 11           #check the time for multiplication"
   ]
  },
  {
   "cell_type": "code",
   "execution_count": 15,
   "metadata": {},
   "outputs": [
    {
     "name": "stdout",
     "output_type": "stream",
     "text": [
      "Wall time: 0 ns\n"
     ]
    },
    {
     "data": {
      "text/plain": [
       "array([[[-19.64912521,  17.12133957,   6.12399362],\n",
       "        [  5.58325222,   7.30678303,   4.16562005],\n",
       "        [ 11.15131488,  20.42610189,  14.56469375]],\n",
       "\n",
       "       [[ 25.13373305,  -8.84662758,  -0.77960494],\n",
       "        [ 11.26119586,  -1.3487329 ,   7.9268379 ],\n",
       "        [ 11.55538412,  -1.18117177,   9.99388925]],\n",
       "\n",
       "       [[  9.79989587,  15.29548076,   1.75813476],\n",
       "        [  6.22357473,   2.99720082, -23.2250601 ],\n",
       "        [ -4.05076481,   1.09771003,   0.85960483]],\n",
       "\n",
       "       [[ -7.04854321,   1.55382651,  -7.56231604],\n",
       "        [-24.61833489,  -0.46760151, -13.15050215],\n",
       "        [  3.08285716,   2.01508756,  16.70390755]],\n",
       "\n",
       "       [[ 11.61308323,   7.98365024, -10.48133332],\n",
       "        [  5.49855838,  -3.77472081,   2.9343837 ],\n",
       "        [-16.15614364,  15.07619544,   5.62049932]]])"
      ]
     },
     "execution_count": 15,
     "metadata": {},
     "output_type": "execute_result"
    }
   ],
   "source": [
    " %time data *10   #array multiplication check the time for multiplication "
   ]
  },
  {
   "cell_type": "code",
   "execution_count": 16,
   "metadata": {},
   "outputs": [],
   "source": [
    "datat1 = np.random.randn(2, 3, 3)\n",
    "datat2 =np.random.randn(2,3,3)"
   ]
  },
  {
   "cell_type": "code",
   "execution_count": 17,
   "metadata": {},
   "outputs": [
    {
     "data": {
      "text/plain": [
       "array([[[-3.20502143, -0.14609625,  0.8682342 ],\n",
       "        [-0.37822731, -0.4376098 , -0.85071143],\n",
       "        [-2.03676644,  0.86349811, -0.27686941]],\n",
       "\n",
       "       [[-1.13378178,  0.14058504,  2.92245846],\n",
       "        [ 1.90749732,  0.43969662, -1.45963585],\n",
       "        [ 0.22672919, -0.83874436, -0.6767354 ]]])"
      ]
     },
     "execution_count": 17,
     "metadata": {},
     "output_type": "execute_result"
    }
   ],
   "source": [
    "datat1 - datat2   ########subtraction"
   ]
  },
  {
   "cell_type": "code",
   "execution_count": 18,
   "metadata": {},
   "outputs": [
    {
     "data": {
      "text/plain": [
       "array([[[-0.47088143,  0.48455095,  0.08196649],\n",
       "        [-0.72752314, -0.33179829,  0.02779208],\n",
       "        [-1.1675377 , -0.18492275,  1.89441453]],\n",
       "\n",
       "       [[-2.43050128, -2.35763339,  0.49789484],\n",
       "        [ 1.69571397, -0.49489313,  0.90472561],\n",
       "        [-1.78482557,  3.32638707,  0.46196045]]])"
      ]
     },
     "execution_count": 18,
     "metadata": {},
     "output_type": "execute_result"
    }
   ],
   "source": [
    "datat1 + datat2  #addtion"
   ]
  },
  {
   "cell_type": "code",
   "execution_count": 19,
   "metadata": {},
   "outputs": [
    {
     "data": {
      "text/plain": [
       "array([[[-2.51260826,  0.05336138, -0.18677803],\n",
       "        [ 0.0965585 , -0.02035306, -0.18073438],\n",
       "        [-0.69631831, -0.17785814,  0.87803743]],\n",
       "\n",
       "       [[ 1.15546883,  1.38466777, -2.07321605],\n",
       "        [-0.19077504,  0.01289652, -0.3280021 ],\n",
       "        [ 0.78354904,  2.59033972, -0.06114084]]])"
      ]
     },
     "execution_count": 19,
     "metadata": {},
     "output_type": "execute_result"
    }
   ],
   "source": [
    "datat2 * datat1 ##multiplication                    ##broadcasting"
   ]
  },
  {
   "cell_type": "code",
   "execution_count": 20,
   "metadata": {},
   "outputs": [
    {
     "data": {
      "text/plain": [
       "array([[[ -1.34444574,   0.53667835,  -1.20849513],\n",
       "        [  3.16565608,  -7.27149691,  -0.93672858],\n",
       "        [ -3.68637621,  -0.64723565,   0.74497171]],\n",
       "\n",
       "       [[  2.74869243,   0.88745176,  -1.41070883],\n",
       "        [-17.01366632,   0.05905961,  -0.23469772],\n",
       "        [  0.77457318,   0.59725432,  -0.18861486]]])"
      ]
     },
     "execution_count": 20,
     "metadata": {},
     "output_type": "execute_result"
    }
   ],
   "source": [
    "datat1 / datat2   #division"
   ]
  },
  {
   "cell_type": "code",
   "execution_count": 21,
   "metadata": {},
   "outputs": [
    {
     "name": "stdout",
     "output_type": "stream",
     "text": [
      "Wall time: 239 ms\n"
     ]
    },
    {
     "data": {
      "text/plain": [
       "array([[[-2.33567803, -0.81964892,  1.31268322],\n",
       "        [-0.86745766,  0.02100379, -0.39832585],\n",
       "        [-1.89800574, -0.9112131 ,  1.65693036]],\n",
       "\n",
       "       [[-0.44720467,  6.30565234,  1.82366737],\n",
       "        [-0.88610807, -2.81532421, -2.37464837],\n",
       "        [ 0.48140105,  0.16824345,  2.35370675]]])"
      ]
     },
     "execution_count": 21,
     "metadata": {},
     "output_type": "execute_result"
    }
   ],
   "source": [
    "%time datat1 @ datat2  #matric multiplication"
   ]
  },
  {
   "cell_type": "code",
   "execution_count": 22,
   "metadata": {},
   "outputs": [
    {
     "name": "stdout",
     "output_type": "stream",
     "text": [
      "Wall time: 62 ms\n"
     ]
    },
    {
     "data": {
      "text/plain": [
       "array([[[[-2.33567803, -0.81964892,  1.31268322],\n",
       "         [ 0.69588878,  3.2061507 ,  2.6986698 ]],\n",
       "\n",
       "        [[-0.86745766,  0.02100379, -0.39832585],\n",
       "         [ 0.81303583,  0.01347996, -0.01881283]],\n",
       "\n",
       "        [[-1.89800574, -0.9112131 ,  1.65693036],\n",
       "         [ 0.18939803,  3.52703753,  2.80383214]]],\n",
       "\n",
       "\n",
       "       [[[-1.49944344, -1.51709103,  2.07033852],\n",
       "         [-0.44720467,  6.30565234,  1.82366737]],\n",
       "\n",
       "        [[ 2.34715502,  0.71207354, -1.02161167],\n",
       "         [-0.88610807, -2.81532421, -2.37464837]],\n",
       "\n",
       "        [[-1.32891635, -0.12355333,  0.73603658],\n",
       "         [ 0.48140105,  0.16824345,  2.35370675]]]])"
      ]
     },
     "execution_count": 22,
     "metadata": {},
     "output_type": "execute_result"
    }
   ],
   "source": [
    "%time np.dot(datat1,datat2) #matric multiplication (numpy function )  "
   ]
  },
  {
   "cell_type": "code",
   "execution_count": 23,
   "metadata": {},
   "outputs": [
    {
     "name": "stdout",
     "output_type": "stream",
     "text": [
      "Wall time: 0 ns\n"
     ]
    },
    {
     "data": {
      "text/plain": [
       "array([[[ 1.02130405e+00, -1.85930390e-01, -1.07921395e-01],\n",
       "        [-6.82717051e-01,  1.02520620e+00, -1.55767088e+00]],\n",
       "\n",
       "       [[-3.16812790e+00, -2.54499964e-01,  4.57010918e-01],\n",
       "        [ 1.85867538e+00,  7.92066080e-01,  3.04477596e+00]],\n",
       "\n",
       "       [[-8.42350345e-01, -1.13230885e-01,  7.13574140e-04],\n",
       "        [ 5.48928638e-01,  4.85806142e-01,  4.49793380e-01]],\n",
       "\n",
       "       [[ 7.97793180e-01, -8.00179437e-01,  2.65890987e+00],\n",
       "        [-2.16877048e+00,  2.73729802e+00,  2.81019906e+00]],\n",
       "\n",
       "       [[-6.31244861e-01, -4.84642303e-01,  1.09403761e+00],\n",
       "        [-2.72786095e-01,  1.80803558e+00,  1.60218901e+00]]])"
      ]
     },
     "execution_count": 23,
     "metadata": {},
     "output_type": "execute_result"
    }
   ],
   "source": [
    "%time data1.dot(datat2)"
   ]
  },
  {
   "cell_type": "code",
   "execution_count": 24,
   "metadata": {},
   "outputs": [
    {
     "data": {
      "text/plain": [
       "array([[0., 0., 0., 0., 0., 0., 0., 0., 0., 0.],\n",
       "       [0., 0., 0., 0., 0., 0., 0., 0., 0., 0.],\n",
       "       [0., 0., 0., 0., 0., 0., 0., 0., 0., 0.],\n",
       "       [0., 0., 0., 0., 0., 0., 0., 0., 0., 0.],\n",
       "       [0., 0., 0., 0., 0., 0., 0., 0., 0., 0.],\n",
       "       [0., 0., 0., 0., 0., 0., 0., 0., 0., 0.],\n",
       "       [0., 0., 0., 0., 0., 0., 0., 0., 0., 0.],\n",
       "       [0., 0., 0., 0., 0., 0., 0., 0., 0., 0.],\n",
       "       [0., 0., 0., 0., 0., 0., 0., 0., 0., 0.],\n",
       "       [0., 0., 0., 0., 0., 0., 0., 0., 0., 0.]])"
      ]
     },
     "execution_count": 24,
     "metadata": {},
     "output_type": "execute_result"
    }
   ],
   "source": [
    "np.zeros(100).reshape(10,10)"
   ]
  },
  {
   "cell_type": "code",
   "execution_count": 25,
   "metadata": {},
   "outputs": [
    {
     "data": {
      "text/plain": [
       "array([[1., 1., 1., 1.],\n",
       "       [1., 1., 1., 1.],\n",
       "       [1., 1., 1., 1.],\n",
       "       [1., 1., 1., 1.]])"
      ]
     },
     "execution_count": 25,
     "metadata": {},
     "output_type": "execute_result"
    }
   ],
   "source": [
    "np.ones((4,4))"
   ]
  },
  {
   "cell_type": "code",
   "execution_count": 26,
   "metadata": {},
   "outputs": [
    {
     "data": {
      "text/plain": [
       "array([[1., 1.],\n",
       "       [1., 1.],\n",
       "       [1., 1.],\n",
       "       [1., 1.],\n",
       "       [1., 1.]])"
      ]
     },
     "execution_count": 26,
     "metadata": {},
     "output_type": "execute_result"
    }
   ],
   "source": [
    "np.ones((5,2))"
   ]
  },
  {
   "cell_type": "code",
   "execution_count": 27,
   "metadata": {},
   "outputs": [
    {
     "data": {
      "text/plain": [
       "array([[1., 1., 1., 1.],\n",
       "       [1., 1., 1., 1.],\n",
       "       [1., 1., 1., 1.],\n",
       "       [1., 1., 1., 1.]])"
      ]
     },
     "execution_count": 27,
     "metadata": {},
     "output_type": "execute_result"
    }
   ],
   "source": [
    "np.empty((4,4))"
   ]
  },
  {
   "cell_type": "code",
   "execution_count": 28,
   "metadata": {},
   "outputs": [
    {
     "name": "stdout",
     "output_type": "stream",
     "text": [
      "(2, 3, 3)\n",
      "float64\n"
     ]
    }
   ],
   "source": [
    "print(datat1.shape)\n",
    "print(datat1.dtype) #dtype is used for data type cheacking"
   ]
  },
  {
   "cell_type": "code",
   "execution_count": 29,
   "metadata": {},
   "outputs": [
    {
     "data": {
      "text/plain": [
       "array([[1, 1, 1],\n",
       "       [1, 1, 1]], dtype=uint8)"
      ]
     },
     "execution_count": 29,
     "metadata": {},
     "output_type": "execute_result"
    }
   ],
   "source": [
    "np.ones((2,3),dtype='uint8')#CHANge of datatype unsigned integar  press shift+tab to check the default parameter"
   ]
  },
  {
   "cell_type": "code",
   "execution_count": 30,
   "metadata": {},
   "outputs": [
    {
     "data": {
      "text/plain": [
       "array([[1., 1., 1., 1., 1., 1., 1., 1.],\n",
       "       [1., 1., 1., 1., 1., 1., 1., 1.],\n",
       "       [1., 1., 1., 1., 1., 1., 1., 1.],\n",
       "       [1., 1., 1., 1., 1., 1., 1., 1.]])"
      ]
     },
     "execution_count": 30,
     "metadata": {},
     "output_type": "execute_result"
    }
   ],
   "source": [
    "np.ones((4,8),)"
   ]
  },
  {
   "cell_type": "code",
   "execution_count": 31,
   "metadata": {},
   "outputs": [
    {
     "data": {
      "text/plain": [
       "array([[1., 1., 1., 1., 1., 1., 1., 1.],\n",
       "       [1., 1., 1., 1., 1., 1., 1., 1.],\n",
       "       [1., 1., 1., 1., 1., 1., 1., 1.],\n",
       "       [1., 1., 1., 1., 1., 1., 1., 1.]])"
      ]
     },
     "execution_count": 31,
     "metadata": {},
     "output_type": "execute_result"
    }
   ],
   "source": [
    "np.ones((4,8))"
   ]
  },
  {
   "cell_type": "code",
   "execution_count": 32,
   "metadata": {},
   "outputs": [
    {
     "data": {
      "text/plain": [
       "array([[[-1.83795143,  0.16922735,  0.47510035],\n",
       "        [-0.55287523, -0.38470404, -0.41145967],\n",
       "        [-1.60215207,  0.33928768,  0.80877256]],\n",
       "\n",
       "       [[-1.78214153, -1.10852418,  1.71017665],\n",
       "        [ 1.80160564, -0.02759826, -0.27745512],\n",
       "        [-0.77904819,  1.24382136, -0.10738748]]])"
      ]
     },
     "execution_count": 32,
     "metadata": {},
     "output_type": "execute_result"
    }
   ],
   "source": [
    "datat1"
   ]
  },
  {
   "cell_type": "code",
   "execution_count": 33,
   "metadata": {},
   "outputs": [
    {
     "data": {
      "text/plain": [
       "array([[[1., 1., 1.],\n",
       "        [1., 1., 1.],\n",
       "        [1., 1., 1.]],\n",
       "\n",
       "       [[1., 1., 1.],\n",
       "        [1., 1., 1.],\n",
       "        [1., 1., 1.]]])"
      ]
     },
     "execution_count": 33,
     "metadata": {},
     "output_type": "execute_result"
    }
   ],
   "source": [
    "np.ones_like(datat1) #the entire datat1 change into the ones format"
   ]
  },
  {
   "cell_type": "code",
   "execution_count": 34,
   "metadata": {},
   "outputs": [
    {
     "data": {
      "text/plain": [
       "array([[5, 5],\n",
       "       [5, 5],\n",
       "       [5, 5],\n",
       "       [5, 5]])"
      ]
     },
     "execution_count": 34,
     "metadata": {},
     "output_type": "execute_result"
    }
   ],
   "source": [
    "np.full((4,2),5) #used to make arry of desired value\n"
   ]
  },
  {
   "cell_type": "code",
   "execution_count": 35,
   "metadata": {},
   "outputs": [
    {
     "data": {
      "text/plain": [
       "array([[[3, 3, 3],\n",
       "        [3, 3, 3],\n",
       "        [3, 3, 3]],\n",
       "\n",
       "       [[3, 3, 3],\n",
       "        [3, 3, 3],\n",
       "        [3, 3, 3]]], dtype=int64)"
      ]
     },
     "execution_count": 35,
     "metadata": {},
     "output_type": "execute_result"
    }
   ],
   "source": [
    "np.full_like(datat1,3,dtype='int64')"
   ]
  },
  {
   "cell_type": "code",
   "execution_count": 36,
   "metadata": {},
   "outputs": [
    {
     "data": {
      "text/plain": [
       "array([0, 1, 2, 3, 4, 5, 6, 7, 8, 9])"
      ]
     },
     "execution_count": 36,
     "metadata": {},
     "output_type": "execute_result"
    }
   ],
   "source": [
    "np.arange(10)"
   ]
  },
  {
   "cell_type": "code",
   "execution_count": 37,
   "metadata": {},
   "outputs": [
    {
     "data": {
      "text/plain": [
       "array([1, 2, 3])"
      ]
     },
     "execution_count": 37,
     "metadata": {},
     "output_type": "execute_result"
    }
   ],
   "source": [
    "arrt1 = np.array([1,2,3],)\n",
    "arrt1"
   ]
  },
  {
   "cell_type": "code",
   "execution_count": 38,
   "metadata": {},
   "outputs": [
    {
     "data": {
      "text/plain": [
       "array([1., 2., 3.], dtype=float32)"
      ]
     },
     "execution_count": 38,
     "metadata": {},
     "output_type": "execute_result"
    }
   ],
   "source": [
    "arrt2 = np.array([1,2,3],dtype='float32')\n",
    "arrt2"
   ]
  },
  {
   "cell_type": "code",
   "execution_count": 39,
   "metadata": {},
   "outputs": [
    {
     "data": {
      "text/plain": [
       "dtype('float32')"
      ]
     },
     "execution_count": 39,
     "metadata": {},
     "output_type": "execute_result"
    }
   ],
   "source": [
    "arrt2.dtype"
   ]
  },
  {
   "cell_type": "code",
   "execution_count": 40,
   "metadata": {},
   "outputs": [
    {
     "data": {
      "text/plain": [
       "array([1, 2, 3])"
      ]
     },
     "execution_count": 40,
     "metadata": {},
     "output_type": "execute_result"
    }
   ],
   "source": [
    "arrt2.astype(np.int) #change of data type"
   ]
  },
  {
   "cell_type": "code",
   "execution_count": 41,
   "metadata": {},
   "outputs": [],
   "source": [
    "arrnumeric = np.array(['21','1','54.6','-675.5'],dtype=np.string_)"
   ]
  },
  {
   "cell_type": "code",
   "execution_count": 42,
   "metadata": {},
   "outputs": [
    {
     "data": {
      "text/plain": [
       "array([  21. ,    1. ,   54.6, -675.5])"
      ]
     },
     "execution_count": 42,
     "metadata": {},
     "output_type": "execute_result"
    }
   ],
   "source": [
    "arrnumeric.astype(np.float)"
   ]
  },
  {
   "cell_type": "code",
   "execution_count": 43,
   "metadata": {},
   "outputs": [],
   "source": [
    "a=[1.1,2,'a']"
   ]
  },
  {
   "cell_type": "code",
   "execution_count": 44,
   "metadata": {},
   "outputs": [
    {
     "data": {
      "text/plain": [
       "float"
      ]
     },
     "execution_count": 44,
     "metadata": {},
     "output_type": "execute_result"
    }
   ],
   "source": [
    "type(a[0])"
   ]
  },
  {
   "cell_type": "code",
   "execution_count": 45,
   "metadata": {},
   "outputs": [
    {
     "data": {
      "text/plain": [
       "int"
      ]
     },
     "execution_count": 45,
     "metadata": {},
     "output_type": "execute_result"
    }
   ],
   "source": [
    "type(a[1])"
   ]
  },
  {
   "cell_type": "code",
   "execution_count": 46,
   "metadata": {},
   "outputs": [
    {
     "data": {
      "text/plain": [
       "str"
      ]
     },
     "execution_count": 46,
     "metadata": {},
     "output_type": "execute_result"
    }
   ],
   "source": [
    "type(a[2])"
   ]
  },
  {
   "cell_type": "code",
   "execution_count": 47,
   "metadata": {},
   "outputs": [
    {
     "data": {
      "text/plain": [
       "[1.1, 2]"
      ]
     },
     "execution_count": 47,
     "metadata": {},
     "output_type": "execute_result"
    }
   ],
   "source": [
    "a[0:2]"
   ]
  },
  {
   "cell_type": "code",
   "execution_count": 48,
   "metadata": {},
   "outputs": [],
   "source": [
    "atg = np.array([[[[1]]]])"
   ]
  },
  {
   "cell_type": "code",
   "execution_count": 49,
   "metadata": {},
   "outputs": [
    {
     "data": {
      "text/plain": [
       "4"
      ]
     },
     "execution_count": 49,
     "metadata": {},
     "output_type": "execute_result"
    }
   ],
   "source": [
    "atg.ndim"
   ]
  },
  {
   "cell_type": "code",
   "execution_count": 50,
   "metadata": {},
   "outputs": [
    {
     "data": {
      "text/plain": [
       "(1, 1, 1, 1)"
      ]
     },
     "execution_count": 50,
     "metadata": {},
     "output_type": "execute_result"
    }
   ],
   "source": [
    "atg.shape"
   ]
  },
  {
   "cell_type": "code",
   "execution_count": 51,
   "metadata": {},
   "outputs": [
    {
     "data": {
      "text/plain": [
       "numpy.ndarray"
      ]
     },
     "execution_count": 51,
     "metadata": {},
     "output_type": "execute_result"
    }
   ],
   "source": [
    "type(atg)"
   ]
  },
  {
   "cell_type": "code",
   "execution_count": 52,
   "metadata": {},
   "outputs": [
    {
     "data": {
      "text/plain": [
       "array([[0, 1],\n",
       "       [2, 3],\n",
       "       [4, 5],\n",
       "       [6, 7],\n",
       "       [8, 9]])"
      ]
     },
     "execution_count": 52,
     "metadata": {},
     "output_type": "execute_result"
    }
   ],
   "source": [
    "atg1 = np.arange(10).reshape(5,2)\n",
    "atg1"
   ]
  },
  {
   "cell_type": "code",
   "execution_count": 53,
   "metadata": {},
   "outputs": [
    {
     "data": {
      "text/plain": [
       "4"
      ]
     },
     "execution_count": 53,
     "metadata": {},
     "output_type": "execute_result"
    }
   ],
   "source": [
    "atg1[2][0]"
   ]
  },
  {
   "cell_type": "code",
   "execution_count": 54,
   "metadata": {},
   "outputs": [
    {
     "data": {
      "text/plain": [
       "array([[0, 1],\n",
       "       [2, 3],\n",
       "       [4, 5],\n",
       "       [6, 7],\n",
       "       [8, 9]])"
      ]
     },
     "execution_count": 54,
     "metadata": {},
     "output_type": "execute_result"
    }
   ],
   "source": [
    "atg1"
   ]
  },
  {
   "cell_type": "code",
   "execution_count": 55,
   "metadata": {},
   "outputs": [
    {
     "data": {
      "text/plain": [
       "array([[4, 5],\n",
       "       [6, 7],\n",
       "       [8, 9]])"
      ]
     },
     "execution_count": 55,
     "metadata": {},
     "output_type": "execute_result"
    }
   ],
   "source": [
    "atg1[2:,0:]"
   ]
  },
  {
   "cell_type": "markdown",
   "metadata": {},
   "source": [
    "# END OF CLASS 1 NUMPY"
   ]
  }
 ],
 "metadata": {
  "kernelspec": {
   "display_name": "Python 3",
   "language": "python",
   "name": "python3"
  },
  "language_info": {
   "codemirror_mode": {
    "name": "ipython",
    "version": 3
   },
   "file_extension": ".py",
   "mimetype": "text/x-python",
   "name": "python",
   "nbconvert_exporter": "python",
   "pygments_lexer": "ipython3",
   "version": "3.7.3"
  }
 },
 "nbformat": 4,
 "nbformat_minor": 2
}
